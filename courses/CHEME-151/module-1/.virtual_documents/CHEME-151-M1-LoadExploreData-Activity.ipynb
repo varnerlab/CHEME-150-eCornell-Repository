





include("Include.jl")





originaldataset = MyKaggleCustomerSpendingDataset()





dataset = let
    treated_dataset = copy(originaldataset);
    transform!(treated_dataset, :gender => ByRow( x-> (x=="Male" ? -1 : 1)) => :gender); # maps gender to -1,1
    treated_dataset 
end;



